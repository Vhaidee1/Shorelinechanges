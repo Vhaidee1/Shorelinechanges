{
 "cells": [
  {
   "cell_type": "markdown",
   "id": "f1bb561d-0d2f-42ab-a853-33be49888fab",
   "metadata": {},
   "source": [
    "# Make a plot for seasons "
   ]
  },
  {
   "cell_type": "markdown",
   "id": "e26c27a1-dc30-446e-8ecf-ace63718f0ce",
   "metadata": {},
   "source": [
    "## Future analysis\n",
    "I have separated the data for all 5 years into their respective seasons, and I want to plot each season on a map.\n",
    "\n",
    "Ideas:\n",
    "   - Average the data for each month and then plot the averaged values for each month.\n",
    "    -Alternatively, separate the data by month across all 5 years, create a list for each month, average the values, and then plot the result. This would give me 5 Januaries, 5 Februaries, and so on.\n"
   ]
  },
  {
   "cell_type": "code",
   "execution_count": 1,
   "id": "c77bd856-346d-4ffc-aa6d-58cfda2cf146",
   "metadata": {},
   "outputs": [],
   "source": [
    "import numpy as np\n",
    "import matplotlib.pyplot as plt\n",
    "import netCDF4 as nc4\n",
    "import cmocean.cm as cm\n",
    "import cartopy \n",
    "import cartopy.crs as ccrs\n",
    "import os\n",
    "from matplotlib.gridspec import GridSpec\n",
    "import datetime as dt\n",
    "from scipy.interpolate import interp1d"
   ]
  },
  {
   "cell_type": "code",
   "execution_count": 2,
   "id": "9e71891a-ee8a-4b02-b9f1-a325efaa1dff",
   "metadata": {},
   "outputs": [
    {
     "name": "stdout",
     "output_type": "stream",
     "text": [
      "['SMAP_L3_SSS_201901_MONTHLY_V5.0.nc', 'SMAP_L3_SSS_201902_MONTHLY_V5.0.nc', 'SMAP_L3_SSS_201903_MONTHLY_V5.0.nc', 'SMAP_L3_SSS_201904_MONTHLY_V5.0.nc', 'SMAP_L3_SSS_201905_MONTHLY_V5.0.nc', 'SMAP_L3_SSS_201906_MONTHLY_V5.0.nc', 'SMAP_L3_SSS_201907_MONTHLY_V5.0.nc', 'SMAP_L3_SSS_201908_MONTHLY_V5.0.nc', 'SMAP_L3_SSS_201909_MONTHLY_V5.0.nc', 'SMAP_L3_SSS_201910_MONTHLY_V5.0.nc', 'SMAP_L3_SSS_201911_MONTHLY_V5.0.nc', 'SMAP_L3_SSS_201912_MONTHLY_V5.0.nc', 'SMAP_L3_SSS_202001_MONTHLY_V5.0.nc', 'SMAP_L3_SSS_202002_MONTHLY_V5.0.nc', 'SMAP_L3_SSS_202003_MONTHLY_V5.0.nc', 'SMAP_L3_SSS_202004_MONTHLY_V5.0.nc', 'SMAP_L3_SSS_202005_MONTHLY_V5.0.nc', 'SMAP_L3_SSS_202006_MONTHLY_V5.0.nc', 'SMAP_L3_SSS_202007_MONTHLY_V5.0.nc', 'SMAP_L3_SSS_202008_MONTHLY_V5.0.nc', 'SMAP_L3_SSS_202009_MONTHLY_V5.0.nc', 'SMAP_L3_SSS_202010_MONTHLY_V5.0.nc', 'SMAP_L3_SSS_202011_MONTHLY_V5.0.nc', 'SMAP_L3_SSS_202012_MONTHLY_V5.0.nc', 'SMAP_L3_SSS_202101_MONTHLY_V5.0.nc', 'SMAP_L3_SSS_202102_MONTHLY_V5.0.nc', 'SMAP_L3_SSS_202103_MONTHLY_V5.0.nc', 'SMAP_L3_SSS_202104_MONTHLY_V5.0.nc', 'SMAP_L3_SSS_202105_MONTHLY_V5.0.nc', 'SMAP_L3_SSS_202106_MONTHLY_V5.0.nc', 'SMAP_L3_SSS_202107_MONTHLY_V5.0.nc', 'SMAP_L3_SSS_202108_MONTHLY_V5.0.nc', 'SMAP_L3_SSS_202109_MONTHLY_V5.0.nc', 'SMAP_L3_SSS_202110_MONTHLY_V5.0.nc', 'SMAP_L3_SSS_202111_MONTHLY_V5.0.nc', 'SMAP_L3_SSS_202112_MONTHLY_V5.0.nc', 'SMAP_L3_SSS_202201_MONTHLY_V5.0.nc', 'SMAP_L3_SSS_202202_MONTHLY_V5.0.nc', 'SMAP_L3_SSS_202203_MONTHLY_V5.0.nc', 'SMAP_L3_SSS_202204_MONTHLY_V5.0.nc', 'SMAP_L3_SSS_202205_MONTHLY_V5.0.nc', 'SMAP_L3_SSS_202206_MONTHLY_V5.0.nc', 'SMAP_L3_SSS_202207_MONTHLY_V5.0.nc', 'SMAP_L3_SSS_202208_MONTHLY_V5.0.nc', 'SMAP_L3_SSS_202210_MONTHLY_V5.0.nc', 'SMAP_L3_SSS_202211_MONTHLY_V5.0.nc', 'SMAP_L3_SSS_202212_MONTHLY_V5.0.nc', 'SMAP_L3_SSS_202301_MONTHLY_V5.0.nc', 'SMAP_L3_SSS_202302_MONTHLY_V5.0.nc', 'SMAP_L3_SSS_202303_MONTHLY_V5.0.nc', 'SMAP_L3_SSS_202304_MONTHLY_V5.0.nc', 'SMAP_L3_SSS_202305_MONTHLY_V5.0.nc', 'SMAP_L3_SSS_202306_MONTHLY_V5.0.nc', 'SMAP_L3_SSS_202307_MONTHLY_V5.0.nc', 'SMAP_L3_SSS_202308_MONTHLY_V5.0.nc', 'SMAP_L3_SSS_202309_MONTHLY_V5.0.nc', 'SMAP_L3_SSS_202310_MONTHLY_V5.0.nc', 'SMAP_L3_SSS_202311_MONTHLY_V5.0.nc', 'SMAP_L3_SSS_202312_MONTHLY_V5.0.nc']\n"
     ]
    }
   ],
   "source": [
    "file_folder = 'D:\\\\homework\\\\homework11\\\\data'\n",
    "file_list = []\n",
    "\n",
    "import os\n",
    "# write a for loop to loop through the files\n",
    "for file_name in os.listdir(file_folder):\n",
    "    \n",
    "    # if the file is an nc file from SMAP, we have to make sure all the files are .nc\n",
    "      if file_name[-3:] == '.nc':\n",
    "          file_list.append(file_name)\n",
    "\n",
    "# sort the file list\n",
    "file_list.sort()\n",
    "\n",
    "# print the number of files that are found\n",
    "print(file_list) "
   ]
  },
  {
   "cell_type": "code",
   "execution_count": 3,
   "id": "eb46fb8c-f0cf-46ff-a703-c2e5975ca86a",
   "metadata": {},
   "outputs": [
    {
     "name": "stdout",
     "output_type": "stream",
     "text": [
      "['2019-01' '2019-02' '2019-03' '2019-04' '2019-05' '2019-06' '2019-07'\n",
      " '2019-08' '2019-09' '2019-10' '2019-11' '2019-12' '2020-01' '2020-02'\n",
      " '2020-03' '2020-04' '2020-05' '2020-06' '2020-07' '2020-08' '2020-09'\n",
      " '2020-10' '2020-11' '2020-12' '2021-01' '2021-02' '2021-03' '2021-04'\n",
      " '2021-05' '2021-06' '2021-07' '2021-08' '2021-09' '2021-10' '2021-11'\n",
      " '2021-12' '2022-01' '2022-02' '2022-03' '2022-04' '2022-05' '2022-06'\n",
      " '2022-07' '2022-08' '2022-10' '2022-11' '2022-12' '2023-01' '2023-02'\n",
      " '2023-03' '2023-04' '2023-05' '2023-06' '2023-07' '2023-08' '2023-09'\n",
      " '2023-10' '2023-11' '2023-12']\n"
     ]
    }
   ],
   "source": [
    "date_list = []\n",
    "\n",
    "# loop through the file name\n",
    "for file_name in file_list:\n",
    "    \n",
    "    # split the file name and retrieve the year and month strings\n",
    "    file_parts = file_name.split('_')\n",
    "    # index 3 wll correspond to month and year \n",
    "    year = file_parts[3][:4]\n",
    "    month = file_parts[3][4:6]\n",
    "    # make a string for the middle day of the month (15)\n",
    "    #day = '10'\n",
    "\n",
    "    # join the year, month, and day strings with dashes\n",
    "    # and add the date string to the date_list\n",
    "    date_string = year+'-'+month  #+'-'+day\n",
    "    date_list.append(date_string)\n",
    "# convert the date list to array with the keyword dtype='datetime64'\n",
    "date_array = np.array(date_list, dtype='datetime64')\n",
    "print(date_array)"
   ]
  },
  {
   "cell_type": "code",
   "execution_count": 4,
   "id": "6ef3688e-36f8-4b0a-bbe6-c09362fdd228",
   "metadata": {},
   "outputs": [],
   "source": [
    "file_path = os.path.join(file_folder, file_list[0])\n",
    "\n",
    "# open the netCDF file with the nc4.Dataset() method\n",
    "ds = nc4.Dataset(file_path)\n",
    "\n",
    "# read in the longitude and latitude variables \n",
    "longitude = np.array(ds.variables['longitude'])\n",
    "latitude = np.array(ds.variables['latitude'])\n",
    "# read in the sss field\n",
    "wind_spd = np.array(ds.variables['smap_spd'])\n",
    "\n",
    "# close the netCDF file\n",
    "ds.close()"
   ]
  },
  {
   "cell_type": "code",
   "execution_count": 5,
   "id": "f8594514-33ad-4ceb-9089-ad48c61261e5",
   "metadata": {},
   "outputs": [],
   "source": [
    "sc_lon = -122\n",
    "sc_lat = 36\n",
    "# find the closest indices to the site longitude and latitude\n",
    "lon_index = np.argmin(np.abs(longitude-sc_lon))\n",
    "lat_index = np.argmin(np.abs(latitude-sc_lat))\n",
    "\n",
    "# print the SSS value at this location\n",
    "spd = wind_spd[lat_index, lon_index]"
   ]
  },
  {
   "cell_type": "code",
   "execution_count": 6,
   "id": "eb10ce58-b399-4e9c-a060-e807f55f4e01",
   "metadata": {},
   "outputs": [],
   "source": [
    "def read_SPD_from_file(file_path, sc_lon, sc_lat):\n",
    "\n",
    "    ds = nc4.Dataset(file_path)\n",
    "\n",
    "    # read in the longitude and latitude variables \n",
    "    longitude = np.array(ds.variables['longitude'])\n",
    "    latitude = np.array(ds.variables['latitude'])\n",
    "    # read in the sss field\n",
    "    smap_spd = np.array(ds.variables['smap_spd'])\n",
    "\n",
    "    # close the netCDF file\n",
    "    ds.close()\n",
    "    \n",
    "    # find the closest indices to the site longitude and latitude\n",
    "    lon_index = np.argmin(np.abs(longitude-sc_lon))\n",
    "    lat_index = np.argmin(np.abs(latitude-sc_lat))\n",
    "\n",
    "    spd = smap_spd[lat_index, lon_index]\n",
    "    return(spd)"
   ]
  },
  {
   "cell_type": "code",
   "execution_count": 7,
   "id": "7aab2da0-c72c-4f2a-97c5-0a1e6285940e",
   "metadata": {},
   "outputs": [
    {
     "name": "stdout",
     "output_type": "stream",
     "text": [
      "[8.796097, 9.086952, 6.0891724, 7.2151394, 6.82276, 6.8088393, 9.366098, 6.397244, 8.040649, 7.801869, 7.616636, 7.372508, 7.5579877, 7.670738, 5.770141, 8.185917, 7.2987247, 7.0605507, 7.148582, 6.2612767, 7.6021557, 5.7608175, 7.919202, 7.706339, 6.492556, 9.153638, 7.1798577, 8.094574, 10.157498, 8.052569, 7.6002674, 5.880581, 7.0701795, 6.2086854, 6.484848, 7.571307, 6.4780374, 7.536395, 8.320481, 8.792571, 9.811499, 8.087334, 7.1926093, 4.7564735, 7.5755706, 6.481252, 5.120317, 9.011418, 7.7778935, 7.8610864, 8.816697, 7.173338, 7.0708976, 9.323574, 7.8131175, 5.5035486, 6.5197296, 7.3756957, 7.941244]\n"
     ]
    }
   ],
   "source": [
    "spd_values = []\n",
    "\n",
    "# loop through the file names\n",
    "for file_name in file_list:\n",
    "    \n",
    "    # define a file path\n",
    "    file_path = os.path.join(file_folder, file_name)\n",
    "\n",
    "    # use the sss function to find the sss value for this file\n",
    "    spd = read_SPD_from_file(file_path, sc_lon, sc_lat)\n",
    "\n",
    "    # add the sss value to the list\n",
    "    spd_values.append(spd)\n",
    "    \n",
    "print(spd_values)"
   ]
  },
  {
   "cell_type": "code",
   "execution_count": 12,
   "id": "9cb9fd14-e58c-4f31-b7aa-d23704d27ab6",
   "metadata": {},
   "outputs": [
    {
     "name": "stderr",
     "output_type": "stream",
     "text": [
      "C:\\Users\\Vhaid\\AppData\\Local\\Temp\\ipykernel_26016\\414384244.py:11: UserWarning: No artists with labels found to put in legend.  Note that artists whose label start with an underscore are ignored when legend() is called with no argument.\n",
      "  plt.legend()\n"
     ]
    },
    {
     "data": {
      "text/plain": [
       "<matplotlib.legend.Legend at 0x202adc51890>"
      ]
     },
     "execution_count": 12,
     "metadata": {},
     "output_type": "execute_result"
    },
    {
     "data": {
      "image/png": "[encoded data removed]",
      "text/plain": [
       "<Figure size 800x400 with 1 Axes>"
      ]
     },
     "metadata": {},
     "output_type": "display_data"
    }
   ],
   "source": [
    "fig = plt.figure(figsize = (8,4))\n",
    "\n",
    "# plot the data\n",
    "plt.plot(date_array, spd_values)\n",
    "#plt.plot(de,best_fit, 'k--', label= '{:.2f}'.format(slope)+'mm/yr')\n",
    "\n",
    "# format the plot\n",
    "plt.ylabel('Wind Speed (m/s)')\n",
    "plt.title('Wind Speed in Santa Cruz')\n",
    "plt.grid(linewidth=0.5, linestyle='--', alpha=0.5)\n",
    "plt.legend()"
   ]
  },
  {
   "cell_type": "code",
   "execution_count": 21,
   "id": "c142bea0-119c-43cb-b5af-2ca715466ba4",
   "metadata": {},
   "outputs": [
    {
     "ename": "IndexError",
     "evalue": "arrays used as indices must be of integer (or boolean) type",
     "output_type": "error",
     "traceback": [
      "\u001b[1;31m---------------------------------------------------------------------------\u001b[0m",
      "\u001b[1;31mIndexError\u001b[0m                                Traceback (most recent call last)",
      "Cell \u001b[1;32mIn[21], line 22\u001b[0m\n\u001b[0;32m     18\u001b[0m     \u001b[38;5;28;01mif\u001b[39;00m \u001b[38;5;28mint\u001b[39m(month) \u001b[38;5;129;01min\u001b[39;00m [\u001b[38;5;241m12\u001b[39m,\u001b[38;5;241m1\u001b[39m,\u001b[38;5;241m2\u001b[39m]:\n\u001b[0;32m     20\u001b[0m         A_mask \u001b[38;5;241m=\u001b[39m wind_spd_masked\n\u001b[1;32m---> 22\u001b[0m         sum_grid[A_mask] \u001b[38;5;241m+\u001b[39m\u001b[38;5;241m=\u001b[39m smap_spd[A_mask]\n\u001b[0;32m     23\u001b[0m         count_grid[A_mask] \u001b[38;5;241m+\u001b[39m\u001b[38;5;241m=\u001b[39m \u001b[38;5;241m1\u001b[39m\n\u001b[0;32m     25\u001b[0m winter_grid \u001b[38;5;241m=\u001b[39m np\u001b[38;5;241m.\u001b[39mzeros_like(sum_grid)\n",
      "\u001b[1;31mIndexError\u001b[0m: arrays used as indices must be of integer (or boolean) type"
     ]
    }
   ],
   "source": [
    "#winter ssa\n",
    "for file_name in file_list:\n",
    "    file_path= os.path.join(file_folder, file_name)\n",
    "    ds = nc4.Dataset(file_path)\n",
    "    longitude = np.array(ds.variables['longitude'])\n",
    "    latitude = np.array(ds.variables['latitude'])\n",
    "    smap_spd = np.array(ds.variables['smap_spd'])\n",
    "    ds.close()\n",
    "\n",
    "    \n",
    "    sum_grid = np.zeros_like(smap_spd)\n",
    "    count_grid= np.zeros_like(smap_spd)\n",
    "    \n",
    "    month = file_name.split('_')[3][4:6]\n",
    "    \n",
    "    if int(month) in [12,1,2]:\n",
    "        \n",
    "        A_mask = np.ma.masked_where(wind_spd_jan<0, wind_spd_jan)\n",
    "        \n",
    "        sum_grid[A_mask] += smap_spd[A_mask]\n",
    "        count_grid[A_mask] += 1\n",
    "        \n",
    "winter_grid = np.zeros_like(sum_grid)\n",
    "winter_grid[count_grid!=0] = sum_grid[count_grid!=0]/count_grid[count_grid!=0]\n",
    "winter_grid = np.ma.masked_where(count_grid==0, winter_grid)\n",
    "print(winter_grid)"
   ]
  },
  {
   "cell_type": "markdown",
   "id": "331ba87c-522e-4aa3-a870-4c24c778b3c7",
   "metadata": {},
   "source": [
    "# Here I plotted masked wind spd"
   ]
  },
  {
   "cell_type": "code",
   "execution_count": null,
   "id": "ac42c2c1-3675-4ee9-9646-5b33924661b2",
   "metadata": {},
   "outputs": [],
   "source": [
    "file_folder = 'D:\\\\homework\\\\homework11\\\\data'\n",
    "file_list = []\n",
    "\n",
    "import os\n",
    "# write a for loop to loop through the files\n",
    "for file_name in os.listdir(file_folder):\n",
    "    \n",
    "    # if the file is an nc file from SMAP, we have to make sure all the files are .nc\n",
    "      if file_name[-3:] == '.nc':\n",
    "          file_list.append(file_name)\n",
    "\n",
    "# sort the file list\n",
    "file_list.sort()\n",
    "\n",
    "# print the number of files that are found\n",
    "print(file_list) "
   ]
  },
  {
   "cell_type": "code",
   "execution_count": null,
   "id": "166561f0-2c90-473e-8e03-c2d9d599fe57",
   "metadata": {},
   "outputs": [],
   "source": [
    "file_folder = 'D:\\\\homework\\\\homework11\\\\data'\n",
    "\n",
    "file_path= os.path.join(file_folder, 'SMAP_L3_SSS_201901_MONTHLY_V5.0.nc')\n",
    "\n",
    "# open the netCDF file with the nc4.Dataset() method\n",
    "ds = nc4.Dataset(file_path)\n",
    "# now we can name it and define it, you can go into panoply, drag the file and then it will tell you what\n",
    "# the name of the variable you are wanting in this dataset is called, here it is called \"Longitude\" under Name not long_name\n",
    "#Lastly, to store in a numpy array (since it might not be in array) you can wrap it in an array \n",
    "longitude = np.array(ds.variables['longitude'])\n",
    "#now we do it for the latitude under name not long_name \n",
    "latitude = np.array(ds.variables['latitude'])\n",
    "# now we are going to create one for sea surface height, and look in panoply for the name  \n",
    "smap_spd = np.array(ds.variables['smap_spd'])\n",
    "# now that its open and you named all the files, you must close the dataset\n",
    "ds.close()"
   ]
  },
  {
   "cell_type": "code",
   "execution_count": null,
   "id": "ff42018a-db7d-470d-aef0-71a6ef04a830",
   "metadata": {},
   "outputs": [],
   "source": [
    "min_lon = -125\n",
    "max_lon = -100\n",
    "min_lat = 30\n",
    "max_lat = 40"
   ]
  },
  {
   "cell_type": "code",
   "execution_count": null,
   "id": "b4e6d99e-7ce9-41e8-a001-a984f2c54827",
   "metadata": {},
   "outputs": [],
   "source": [
    "min_lon_index = np.argmin(np.abs(longitude-min_lon))\n",
    "#next do maximum, for longitude \n",
    "max_lon_index = np.argmin(np.abs(longitude-max_lon))\n",
    "#and you also want to do the same for latitude \n",
    "min_lat_index = np.argmin(np.abs(latitude-min_lat))\n",
    "max_lat_index = np.argmin(np.abs(latitude-max_lat))\n",
    "\n",
    "# print the indices to be sure these are ordered correctly, in our previous lab we had indices that were \n",
    "# the opposite way because our grid was upside down \n",
    "print('lon indices', min_lon_index, max_lon_index)\n",
    "print('lat indices', min_lat_index, max_lat_index)"
   ]
  },
  {
   "cell_type": "code",
   "execution_count": null,
   "id": "eb6a606d-f52c-4f2c-bf80-eff7866cd3f4",
   "metadata": {},
   "outputs": [],
   "source": [
    "def plot_box(ax, min_lon, min_lat, max_lon, max_lat):\n",
    "    ax.plot([min_lon, min_lon], [min_lat, max_lat], 'k-')\n",
    "    ax.plot([max_lon, max_lon], [min_lat, max_lat], 'k-')\n",
    "    ax.plot([min_lon, max_lon], [min_lat, min_lat], 'k-')\n",
    "    ax.plot([min_lon, max_lon], [max_lat, max_lat], 'k-')"
   ]
  },
  {
   "cell_type": "code",
   "execution_count": null,
   "id": "53c09ad5-1a5f-4862-b6c3-003719d273e8",
   "metadata": {},
   "outputs": [],
   "source": [
    "fig = plt.figure()\n",
    "\n",
    "# mask the SLA, since our masking is big, we want to stop masking at 1000 and apply to our ssh grid\n",
    "spd_masked = np.ma.masked_where(smap_spd<0, smap_spd)\n",
    "\n",
    "# make a plot of the SLA, we can make a 2d plot of our data\n",
    "# if we define the plot as C, then we can add in a colorbar\n",
    "# plt.pcolormesh(longitude, latitude, ssh), original code \n",
    "# vmin=-1, vmax=1, cmap='seismic' was added after we looked at the graph\n",
    "C = plt.pcolormesh(longitude, latitude, spd_masked, vmin=-1, vmax=1)\n",
    "\n",
    "# add the colorbar\n",
    "plt.colorbar(C)\n",
    "\n",
    "# this was added after vmin,vmax and we looked at that map.\n",
    "# we took this code from one of the prevous codeblock and you need to run it first before running this \n",
    "#codeblock\n",
    "plot_box(plt.gca(), min_lon, min_lat, max_lon, max_lat)\n",
    "\n",
    "# format the figure\n",
    "plt.show"
   ]
  },
  {
   "cell_type": "code",
   "execution_count": null,
   "id": "9051d862-9c0b-4d73-b7a7-15a7073e7436",
   "metadata": {},
   "outputs": [],
   "source": [
    "plt.hist(smap_spd.ravel())\n",
    "plt.show()"
   ]
  },
  {
   "cell_type": "code",
   "execution_count": null,
   "id": "f2980926-d8ba-4192-a9d2-137e74f18e5b",
   "metadata": {},
   "outputs": [],
   "source": [
    "wind_spd_masked = np.ma.masked_where(smap_spd<0, smap_spd)\n",
    "\n",
    "fig = plt.figure()\n",
    "\n",
    "# use pcolormesh to plot the data\n",
    "plt.pcolormesh(longitude, latitude, wind_spd_masked, vmin =0, vmax=17, cmap=cm.tempo_r)\n",
    "\n",
    "# add a colorbar to the image\n",
    "plt.colorbar()\n",
    "\n",
    "#show the plot\n",
    "plt.show()"
   ]
  },
  {
   "cell_type": "code",
   "execution_count": null,
   "id": "6b4147ae-56a0-49b4-89c3-17db0256c995",
   "metadata": {},
   "outputs": [],
   "source": [
    "fig = plt.figure()\n",
    "\n",
    "# use pcolormesh to plot the data\n",
    "plt.pcolormesh(longitude, latitude, wind_spd_masked, vmin =0, vmax=17, cmap=cm.tempo_r)\n",
    "\n",
    "# add a colorbar to the image\n",
    "plt.colorbar(label='Wind Speed(m/s)')\n",
    "\n",
    "#change axis bounds\n",
    "plt.gca().set_xlim([-135, -90])\n",
    "plt.gca().set_ylim([20, 40])\n",
    "\n",
    "plt.title('Wind Speed in Santa Cruz')\n",
    "plt.ylabel('Longitude')\n",
    "#show the plot\n",
    "plt.show()"
   ]
  },
  {
   "cell_type": "code",
   "execution_count": null,
   "id": "4400fa74-0e7e-4a8f-8b6c-c666fe58f216",
   "metadata": {},
   "outputs": [],
   "source": []
  },
  {
   "cell_type": "code",
   "execution_count": null,
   "id": "d4c6371d-99f1-4090-8167-80b148227ad6",
   "metadata": {},
   "outputs": [],
   "source": []
  },
  {
   "cell_type": "markdown",
   "id": "a5bb9cf1-1334-431d-8ad8-a629d6a9b8b2",
   "metadata": {},
   "source": [
    "# ORIGINAL CODE DOWN BELOW"
   ]
  },
  {
   "cell_type": "code",
   "execution_count": null,
   "id": "1dc8b4b8-5872-4136-ac33-9810d2525f2c",
   "metadata": {
    "scrolled": true
   },
   "outputs": [],
   "source": [
    "file_folder = 'D:\\\\homework\\\\homework11\\\\data'\n",
    "\n",
    "file_path= os.path.join(file_folder, 'SMAP_L3_SSS_201901_MONTHLY_V5.0.nc')\n",
    "\n",
    "ds = nc4.Dataset(file_path)\n",
    "longitude = np.array(ds.variables['longitude'])\n",
    "latitude = np.array(ds.variables['latitude'])\n",
    "wind_spd = np.array(ds.variables['smap_spd'])\n",
    "ds.close()\n",
    "\n",
    "wind_spd=wind_spd[0, :]\n",
    "\n",
    "sum_grid = np.zeros_like(wind_spd)\n",
    "count_grid= np.zeros_like(wind_spd)\n",
    "\n",
    "file_list = []\n",
    "\n",
    "import os\n",
    "# write a for loop to loop through the files\n",
    "for file_name in os.listdir(file_folder):\n",
    "    \n",
    "    # if the file is an nc file from SMAP, we have to make sure all the files are .nc\n",
    "      if file_name[-3:] == '.nc':\n",
    "          file_list.append(file_name)\n",
    "\n",
    "# sort the file list\n",
    "file_list.sort()\n",
    "\n",
    "# print the number of files that are found\n",
    "print(file_list)"
   ]
  },
  {
   "cell_type": "code",
   "execution_count": null,
   "id": "49f36555-f25a-4180-9621-0a3bccde3c30",
   "metadata": {
    "scrolled": true
   },
   "outputs": [],
   "source": [
    "winter_date = []\n",
    "winter_values = []\n",
    "\n",
    "# loop through all of the files in the file list\n",
    "for file_name in file_list:\n",
    "\n",
    "    year = file_name.split('_')[3][:4]\n",
    "    month = file_name.split('_')[3][4:6]\n",
    "    \n",
    "    if int(month) in [12,1,2]:\n",
    "        ds = nc4.Dataset(os.path.join(file_folder, file_name))\n",
    "        longitude = np.array(ds.variables['longitude'])\n",
    "        latitude = np.array(ds.variables['latitude'])\n",
    "        smap_spd = np.array(ds.variables['smap_spd'])\n",
    "        ds.close()\n",
    "        \n",
    "        wind_spd_masked_winter = np.ma.masked_where(smap_spd<0, smap_spd) \n",
    "        # add the data to the lists\n",
    "        winter_values.append(wind_spd_masked_winter)\n",
    "        winter_date.append(year+'-'+month)\n",
    "\n",
    "# winter_array = np.array(winter_date, dtype='datetime64')\n",
    "# print(winter_array)\n",
    "print(winter_date)\n",
    "print(winter_values)"
   ]
  },
  {
   "cell_type": "code",
   "execution_count": null,
   "id": "52ba92d6-8f9f-4c16-b1c0-9a58294082ef",
   "metadata": {},
   "outputs": [],
   "source": [
    "spring_list = []\n",
    "spring_values = []\n",
    "\n",
    "# loop through all of the files in the file list\n",
    "for file_name in file_list:\n",
    "\n",
    "    year = file_name.split('_')[3][:4]\n",
    "    month = file_name.split('_')[3][4:6]\n",
    "    \n",
    "    if int(month) in [3,4,5]:\n",
    "\n",
    "        ds = nc4.Dataset(os.path.join(file_folder, file_name))\n",
    "        longitude = np.array(ds.variables['longitude'])\n",
    "        latitude = np.array(ds.variables['latitude'])\n",
    "        smap_spd = np.array(ds.variables['smap_spd'])\n",
    "        ds.close()\n",
    "        \n",
    "        wind_spd_masked_spring = np.ma.masked_where(smap_spd<0, smap_spd) \n",
    "        # add the data to the lists\n",
    "        spring_values.append(wind_spd_masked_spring)\n",
    "        spring_list.append(year+'-'+month)\n",
    "\n",
    "# make a date_array from the date_list, you have to add datetime64 in order to tell it that it wants that \n",
    "# type of data in that specific format\n",
    "spring_array = np.array(spring_list, dtype='datetime64')\n",
    "print(spring_array)"
   ]
  },
  {
   "cell_type": "code",
   "execution_count": null,
   "id": "107b4942-8685-4201-b239-cca5b741743d",
   "metadata": {},
   "outputs": [],
   "source": [
    "summer_list = []\n",
    "summer_values = []\n",
    "\n",
    "# loop through all of the files in the file list\n",
    "for file_name in file_list:\n",
    "   \n",
    "    year = file_name.split('_')[3][:4]\n",
    "    month = file_name.split('_')[3][4:6]\n",
    "    \n",
    "    if int(month) in [6,7,8]:\n",
    "\n",
    "        ds = nc4.Dataset(os.path.join(file_folder, file_name))\n",
    "        longitude = np.array(ds.variables['longitude'])\n",
    "        latitude = np.array(ds.variables['latitude'])\n",
    "        smap_spd = np.array(ds.variables['smap_spd'])\n",
    "        ds.close()\n",
    "        \n",
    "        wind_spd_masked_summer = np.ma.masked_where(smap_spd<0, smap_spd) \n",
    "        # add the data to the lists\n",
    "        summer_values.append(wind_spd_masked_winter)\n",
    "        summer_list.append(year+'-'+month)\n",
    "\n",
    "# make a date_array from the date_list, you have to add datetime64 in order to tell it that it wants that \n",
    "# type of data in that specific format\n",
    "summer_array = np.array(summer_list, dtype='datetime64')\n",
    "print(summer_array)"
   ]
  },
  {
   "cell_type": "code",
   "execution_count": null,
   "id": "b889a504-1749-4429-bda4-8e9bb01f71e1",
   "metadata": {},
   "outputs": [],
   "source": [
    "fall_list = []\n",
    "fall_values = []\n",
    "\n",
    "# loop through all of the files in the file list\n",
    "for file_name in file_list:\n",
    "\n",
    "    year = file_name.split('_')[3][:4]\n",
    "    month = file_name.split('_')[3][4:6]\n",
    "    \n",
    "    if int(month) in [9,10,11]:\n",
    "        \n",
    "        ds = nc4.Dataset(os.path.join(file_folder, file_name))\n",
    "        longitude = np.array(ds.variables['longitude'])\n",
    "        latitude = np.array(ds.variables['latitude'])\n",
    "        smap_spd = np.array(ds.variables['smap_spd'])\n",
    "        ds.close()\n",
    "        \n",
    "        wind_spd_masked_fall = np.ma.masked_where(smap_spd<0, smap_spd) \n",
    "        # add the data to the lists\n",
    "        fall_values.append(wind_spd_masked_fall)\n",
    "        fall_list.append(year+'-'+month)\n",
    "\n",
    "# make a date_array from the date_list, you have to add datetime64 in order to tell it that it wants that \n",
    "# type of data in that specific format\n",
    "fall_array = np.array(fall_list, dtype='datetime64')\n",
    "print(fall_array)"
   ]
  }
 ],
 "metadata": {
  "kernelspec": {
   "display_name": "ms274",
   "language": "python",
   "name": "ms274"
  },
  "language_info": {
   "codemirror_mode": {
    "name": "ipython",
    "version": 3
   },
   "file_extension": ".py",
   "mimetype": "text/x-python",
   "name": "python",
   "nbconvert_exporter": "python",
   "pygments_lexer": "ipython3",
   "version": "3.11.9"
  }
 },
 "nbformat": 4,
 "nbformat_minor": 5
}
