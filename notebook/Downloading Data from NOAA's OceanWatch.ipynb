{
 "cells": [
  {
   "cell_type": "markdown",
   "id": "34989e05-15a5-4759-9930-54d255ed56ff",
   "metadata": {},
   "source": [
    "# Downloading Data from NOAA's OceanWatch\n",
    "This notebook provides the functionality to download a set of files NOAA's sea surface height \n",
    "\n",
    "### Import the modules used in this notebook"
   ]
  },
  {
   "cell_type": "code",
   "execution_count": 1,
   "id": "3cb9f554-076d-4cf0-91cb-a6d7b2a79b71",
   "metadata": {},
   "outputs": [],
   "source": [
    "import requests\n",
    "import os\n",
    "from subscriber import podaac_data_downloader as pdd\n",
    "from subscriber import podaac_access as pa\n",
    "import argparse"
   ]
  },
  {
   "cell_type": "markdown",
   "id": "2ca1a568-db05-43a6-9855-6d4ae4e9bf1a",
   "metadata": {},
   "source": [
    "### User Inputs\n",
    "Edit this section to define your search query."
   ]
  },
  {
   "cell_type": "markdown",
   "id": "edf83245-9025-47b6-a0e8-285131cc61cf",
   "metadata": {},
   "source": [
    "# define an output folder\n",
    "data_path = 'C:\\Users\\Vhaid\\OneDrive\\Desktop\\MS 274\\Projects\\Shorelinechanges\\notebook\\Downloading Data from NOAA's OceanWatch.ipynb'\n",
    "\n",
    "# define a collection e.g.:\n",
    "short_name = ''\n",
    "\n",
    "# define a start time\n",
    "start_date_time = ''\n",
    "\n",
    "# define a start time\n",
    "end_date_time = ''"
   ]
  },
  {
   "cell_type": "markdown",
   "id": "bbb87e58-ed5a-43ff-887b-d77634099782",
   "metadata": {},
   "source": [
    "### Creating the Download Arguments\n",
    "No need to edit this section - just run the cell"
   ]
  },
  {
   "cell_type": "code",
   "execution_count": 3,
   "id": "3220dc54-ada5-4a9e-ba28-aaccf2e0508e",
   "metadata": {},
   "outputs": [],
   "source": [
    "# create a parser object from the \n",
    "parser = pdd.create_parser()\n",
    "args = parser.parse_args(['-c',short_name, '-d',data_path,\n",
    "                          '-sd',start_date_time, '-ed',end_date_time])"
   ]
  },
  {
   "cell_type": "markdown",
   "id": "388bb477-7ce0-4b4f-8671-ff70f2045dfa",
   "metadata": {},
   "source": [
    "### Run the downloading script\n",
    "The `run` method will download the files found in the PODAAC database. Nothing will print in the Jupyter notebook but the files will show up in the download folder you created above."
   ]
  },
  {
   "cell_type": "markdown",
   "id": "0dbaf868-bf5c-4245-95cd-7ca0b52b9f5b",
   "metadata": {},
   "source": [
    "# run the downloading script\n",
    "pdd.run(args)"
   ]
  }
 ],
 "metadata": {
  "kernelspec": {
   "display_name": "ms274",
   "language": "python",
   "name": "ms274"
  },
  "language_info": {
   "codemirror_mode": {
    "name": "ipython",
    "version": 3
   },
   "file_extension": ".py",
   "mimetype": "text/x-python",
   "name": "python",
   "nbconvert_exporter": "python",
   "pygments_lexer": "ipython3",
   "version": "3.11.9"
  }
 },
 "nbformat": 4,
 "nbformat_minor": 5
}
