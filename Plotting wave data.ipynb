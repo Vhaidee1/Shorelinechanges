{
 "cells": [
  {
   "cell_type": "markdown",
   "id": "9f60ca7a-82f5-4363-9a18-63126f796a1d",
   "metadata": {},
   "source": [
    "# Plotting wave data for CDIP "
   ]
  },
  {
   "cell_type": "code",
   "execution_count": 1,
   "id": "abe84ce2-229c-4881-b019-3b55b6ed8f0b",
   "metadata": {},
   "outputs": [
    {
     "ename": "ModuleNotFoundError",
     "evalue": "No module named 'xarray'",
     "output_type": "error",
     "traceback": [
      "\u001b[1;31m---------------------------------------------------------------------------\u001b[0m",
      "\u001b[1;31mModuleNotFoundError\u001b[0m                       Traceback (most recent call last)",
      "Cell \u001b[1;32mIn[1], line 1\u001b[0m\n\u001b[1;32m----> 1\u001b[0m \u001b[38;5;28;01mimport\u001b[39;00m \u001b[38;5;21;01mxarray\u001b[39;00m \u001b[38;5;28;01mas\u001b[39;00m \u001b[38;5;21;01mxr\u001b[39;00m \n\u001b[0;32m      2\u001b[0m \u001b[38;5;28;01mimport\u001b[39;00m \u001b[38;5;21;01mnumpy\u001b[39;00m \u001b[38;5;28;01mas\u001b[39;00m \u001b[38;5;21;01mnp\u001b[39;00m\n\u001b[0;32m      3\u001b[0m \u001b[38;5;28;01mimport\u001b[39;00m \u001b[38;5;21;01mmatplotlib\u001b[39;00m\u001b[38;5;21;01m.\u001b[39;00m\u001b[38;5;21;01mpyplot\u001b[39;00m \u001b[38;5;28;01mas\u001b[39;00m \u001b[38;5;21;01mplt\u001b[39;00m\n",
      "\u001b[1;31mModuleNotFoundError\u001b[0m: No module named 'xarray'"
     ]
    }
   ],
   "source": [
    "import xarray as xr \n",
    "import numpy as np\n",
    "import matplotlib.pyplot as plt"
   ]
  },
  {
   "cell_type": "code",
   "execution_count": null,
   "id": "d0d103e2-a5f2-4228-9063-8da9b06fc915",
   "metadata": {},
   "outputs": [],
   "source": [
    "dswharf = xr.open_dataset('https://thredds.cdip.ucsd.edu/thredds/dodsC/cdip/model/MOP_alongshore/SC142_hindcast.nc')\n",
    "dstransect2 = xr.open_dataset('https://thredds.cdip.ucsd.edu/thredds/dodsC/cdip/model/MOP_alongshore/SC141_hindcast.nc')\n",
    "dstransect3 = xr.open_dataset('https://thredds.cdip.ucsd.edu/thredds/dodsC/cdip/model/MOP_alongshore/SC140_hindcast.nc')\n",
    "dstransect4 = xr.open_dataset('https://thredds.cdip.ucsd.edu/thredds/dodsC/cdip/model/MOP_alongshore/SC139_hindcast.nc')\n",
    "dstransect4 = xr.open_dataset('https://thredds.cdip.ucsd.edu/thredds/dodsC/cdip/model/MOP_alongshore/SC138_hindcast.nc')"
   ]
  },
  {
   "cell_type": "code",
   "execution_count": null,
   "id": "990b92e5-36cf-4ce0-8cea-e8b7d9dff6b1",
   "metadata": {},
   "outputs": [],
   "source": []
  }
 ],
 "metadata": {
  "kernelspec": {
   "display_name": "ms274",
   "language": "python",
   "name": "ms274"
  },
  "language_info": {
   "codemirror_mode": {
    "name": "ipython",
    "version": 3
   },
   "file_extension": ".py",
   "mimetype": "text/x-python",
   "name": "python",
   "nbconvert_exporter": "python",
   "pygments_lexer": "ipython3",
   "version": "3.11.9"
  }
 },
 "nbformat": 4,
 "nbformat_minor": 5
}
